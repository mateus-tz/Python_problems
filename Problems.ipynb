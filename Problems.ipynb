{
 "cells": [
  {
   "cell_type": "markdown",
   "id": "c1c731da",
   "metadata": {},
   "source": [
    "A função fatorial, $n! = 1 \\cdot 2 \\cdot 3 \\cdot \\dots \\cdot (n - 1) \\cdot n$, é o produto dos $n$ primeiros inteiros positivos e é fornecida pelo método `factorial` do módulo `math`.\n",
    "\n",
    "A função fatorial duplo, $n!!$, é o produto dos inteiros positivos ímpares até $n$ (que deve ser ímpar):\n",
    "\n",
    "\n",
    "$n!! = \\prod_{i=1}^{\\frac{n+1}{2}} (2i - 1) = 1 \\cdot 3 \\cdot 5 \\cdot \\dots \\cdot (n - 2) \\cdot n$\n",
    "\n",
    "Escreva uma rotina para calcular $n!!$ em Python.\n",
    "\n",
    "Como exercício adicional, estenda a fórmula para $n$ par da seguinte forma:\n",
    "\n",
    "$\n",
    "n!! = \\prod_{i=1}^{\\frac{n}{2}} (2i) = 2 \\cdot 4 \\cdot 6 \\cdot \\dots \\cdot (n - 2) \\cdot n\n",
    "$\n"
   ]
  },
  {
   "cell_type": "code",
   "execution_count": 271,
   "id": "23f78f97",
   "metadata": {},
   "outputs": [
    {
     "name": "stdout",
     "output_type": "stream",
     "text": [
      "3840\n"
     ]
    }
   ],
   "source": [
    "N = 10\n",
    "if N%2 == 0:\n",
    "  \n",
    "    fatorial_par = 1 \n",
    "    for n in  list(range(0,N+1,2))[1:]:\n",
    "        fatorial_par *=n\n",
    "\n",
    "    print(fatorial_par)\n",
    "    \n",
    "else:\n",
    "    \n",
    "    fatorial_impar = 1 \n",
    "    for n in  list(range(1, N+1,2)):\n",
    "        fatorial_impar *=n\n",
    "\n",
    "    print(fatorial_impar)"
   ]
  },
  {
   "cell_type": "markdown",
   "id": "f1a05230",
   "metadata": {},
   "source": [
    "O algoritmo conhecido como **Crivo de Eratóstenes** encontra os números primos\n",
    "em uma lista de $2, 3, \\dots, n$. Ele pode ser resumido da seguinte forma, começando com $p = 2$, o primeiro número primo:\n",
    "\n",
    "1. Crie uma lista de inteiros de 2 até $n$.\n",
    "2. Começando com $p = 2$, marque todos os múltiplos de $p$ (exceto o próprio $p$) como não primos.\n",
    "3. Encontre o próximo número não marcado na lista. Esse número será o próximo primo. \n",
    "   Atualize $p$ com esse novo valor.\n",
    "4. Repita o processo para todos os valores de $p$ até que $p^2 > n$.\n",
    "5. Todos os números que não foram marcados como múltiplos de algum número serão primos.\n",
    "\n"
   ]
  },
  {
   "cell_type": "code",
   "execution_count": 2,
   "id": "e84f417b",
   "metadata": {
    "collapsed": true
   },
   "outputs": [
    {
     "data": {
      "text/plain": [
       "[2,\n",
       " 3,\n",
       " 5,\n",
       " 7,\n",
       " 11,\n",
       " 13,\n",
       " 17,\n",
       " 19,\n",
       " 23,\n",
       " 29,\n",
       " 31,\n",
       " 37,\n",
       " 41,\n",
       " 43,\n",
       " 47,\n",
       " 53,\n",
       " 59,\n",
       " 61,\n",
       " 67,\n",
       " 71,\n",
       " 73,\n",
       " 79,\n",
       " 83,\n",
       " 89,\n",
       " 97]"
      ]
     },
     "execution_count": 2,
     "metadata": {},
     "output_type": "execute_result"
    }
   ],
   "source": [
    "lista_numbers = list(range(2,100))\n",
    "\n",
    "\n",
    "\n",
    "p = 2\n",
    "j = 1\n",
    "while p < len(lista_numbers):\n",
    "    for i in lista_numbers[j:]:\n",
    "        if i % p == 0:\n",
    "            lista_numbers.remove(i)\n",
    "    j += 1\n",
    "    p += 1\n",
    "            \n",
    "\n",
    "lista_numbers"
   ]
  },
  {
   "cell_type": "markdown",
   "id": "f00a17ce",
   "metadata": {},
   "source": [
    "A configuração eletrônica de um átomo é a especificação da distribuição de seus elétrons em orbitais atômicos. Um orbital atômico é identificado por um número quântico principal, $n = 1, 2, 3, \\dots$, que define uma camada composta por uma ou mais subcamadas definidas pelo número quântico azimutal, $l = 0, 1, 2, \\dots, n - 1$. Os valores $l = 0, 1, 2, 3$ são referidos pelas letras **s**, **p**, **d** e **f**, respectivamente. Assim, os primeiros orbitais são:\n",
    "\n",
    "- $1s$ ($n = 1, l = 0$)\n",
    "- $2s$ ($n = 2, l = 0$)\n",
    "- $2p$ ($n = 2, l = 1$)\n",
    "- $3s$ ($n = 3, l = 0$)\n",
    "\n",
    "Cada camada tem $n$ subcamadas, e um máximo de $2(2l + 1)$ elétrons pode ocupar uma subcamada dada.\n",
    "\n",
    "De acordo com a regra de Madelung, os $N$ elétrons de um átomo preenchem os orbitais em ordem crescente de $n + l$, de modo que sempre que dois orbitais têm o mesmo valor de $n + l$, eles são preenchidos em ordem crescente de $n$. Por exemplo, o estado fundamental do titânio ($N = 22$) é previsto (e encontrado) como:\n",
    "\n",
    "$1s^2 \\, 2s^2 \\, 2p^6 \\, 3s^2 \\, 3p^6 \\, 4s^2 \\, 3d^2$\n",
    "\n",
    "Escreva um programa para prever as configurações eletrônicas dos elementos até o rutherfórdio ($N = 104$). A saída para o titânio deve ser:\n",
    "\n",
    "`Ti: 1s2.2s2.2p6.3s2.3p6.4s2.3d2`\n"
   ]
  },
  {
   "cell_type": "code",
   "execution_count": 13,
   "id": "01068889",
   "metadata": {},
   "outputs": [],
   "source": [
    "subshells = ['s', 'p', 'd', 'f', 'g']\n",
    "\n",
    "nl_pairs = []\n",
    "for n in range(1,8):\n",
    "    for l in range(n):\n",
    "        nl_pairs.append([n+l, n, l])\n",
    "nl_pairs.sort()"
   ]
  },
  {
   "cell_type": "code",
   "execution_count": 14,
   "id": "c57f0b59",
   "metadata": {},
   "outputs": [],
   "source": [
    "for i,l in enumerate(nl_pairs):\n",
    "    if l[2] == 0:\n",
    "        nl_pairs[i][2] = 's'\n",
    "        \n",
    "    elif l[2] == 1:\n",
    "        nl_pairs[i][2] = 'p'\n",
    "    \n",
    "    elif l[2] == 2:\n",
    "        nl_pairs[i][2] = 'd'\n",
    "     \n",
    "    elif l[2] == 3:\n",
    "        nl_pairs[i][2] = 'f'\n",
    "    \n",
    "    elif l[2] == 4:\n",
    "        nl_pairs[i][2] = 'g'\n",
    "        \n",
    "    elif l[2] > 4:\n",
    "        nl_pairs[i][0] = 0\n",
    "        nl_pairs[i][1] = 0\n",
    "        nl_pairs[i][2] = 0\n",
    "        \n",
    "nl_pairs.sort()"
   ]
  },
  {
   "cell_type": "code",
   "execution_count": 20,
   "id": "e2097347",
   "metadata": {},
   "outputs": [],
   "source": [
    "lista_orbtais = []\n",
    "for i in range(3,28):\n",
    "    lista_orbtais += [str(nl_pairs[i][1]) + nl_pairs[i][2]]"
   ]
  },
  {
   "cell_type": "code",
   "execution_count": 22,
   "id": "6f43642a",
   "metadata": {},
   "outputs": [],
   "source": [
    "def func_valores_camadas(x):\n",
    "    dict_subshell = {'s':2,'p': 6,'d':10,'f': 14,'g': 18}\n",
    "    return dict_subshell[x]"
   ]
  },
  {
   "cell_type": "code",
   "execution_count": 28,
   "id": "5029446c",
   "metadata": {},
   "outputs": [],
   "source": [
    "lista_values = []\n",
    "for i in  lista_orbtais:\n",
    "    lista_values +=[func_valores_camadas(i[1])]"
   ]
  },
  {
   "cell_type": "code",
   "execution_count": 200,
   "id": "98f31c47",
   "metadata": {},
   "outputs": [
    {
     "name": "stdout",
     "output_type": "stream",
     "text": [
      "Ti:1s2.2s2.2p6.3s2.3p6.4s2.3d2\n"
     ]
    }
   ],
   "source": [
    "N = 22\n",
    "\n",
    "ç = N\n",
    "lista_numb_eletrons = []\n",
    "contador = 0 \n",
    "while N > 0:\n",
    "    if  N >= lista_values[contador]:\n",
    "        lista_numb_eletrons.append(lista_values[contador])\n",
    "        N -= lista_values[contador]\n",
    "        contador += 1\n",
    "    elif N < lista_values[contador]:\n",
    "        lista_numb_eletrons.append(N)\n",
    "        N -= N\n",
    "        contador += 1\n",
    "        \n",
    "lista_numb_eletrons_srt = []      \n",
    "for i in lista_numb_eletrons:\n",
    "    lista_numb_eletrons_srt.append(str(i))\n",
    "    \n",
    "lista_configuracao = []  \n",
    "for i , config in enumerate(lista_orbtais[:len(lista_numb_eletrons_srt)]):\n",
    "    lista_configuracao.append(config + lista_numb_eletrons_srt[i])\n",
    "    \n",
    "\n",
    "    \n",
    "    \n",
    "element_symbols = ['H', 'He', 'Li', 'Be', 'B', 'C', 'N', 'O', 'F', 'Ne', 'Na',\n",
    "'Mg', 'Al', 'Si', 'P', 'S', 'Cl', 'Ar', 'K', 'Ca', 'Sc', 'Ti', 'V', 'Cr', 'Mn',\n",
    "'Fe', 'Co', 'Ni', 'Cu', 'Zn', 'Ga', 'Ge', 'As', 'Se', 'Br', 'Kr', 'Rb', 'Sr',\n",
    "'Y', 'Zr', 'Nb', 'Mo', 'Tc', 'Ru', 'Rh', 'Pd', 'Ag', 'Cd', 'In', 'Sn', 'Sb',\n",
    "'Te', 'I', 'Xe', 'Cs', 'Ba', 'La', 'Ce', 'Pr', 'Nd', 'Pm', 'Sm', 'Eu', 'Gd',\n",
    "'Tb', 'Dy', 'Ho', 'Er', 'Tm', 'Yb', 'Lu', 'Hf', 'Ta', 'W', 'Re', 'Os', 'Ir',\n",
    "'Pt', 'Au', 'Hg', 'Tl', 'Pb', 'Bi', 'Po', 'At', 'Rn', 'Fr', 'Ra', 'Ac', 'Th',\n",
    "'Pa', 'U', 'Np', 'Pu', 'Am', 'Cm', 'Bk', 'Cf', 'Es', 'Fm', 'Md', 'No','Lr','Rf']\n",
    "\n",
    "    \n",
    "print(element_symbols[ç-1] +':'+'.'.join(lista_configuracao))"
   ]
  },
  {
   "cell_type": "markdown",
   "id": "fa2cb608",
   "metadata": {},
   "source": [
    "O jogo de palavras **Scrabble** é jogado em uma grade de 15 × 15 quadrados, referida por uma letra de índice de linha (A–O) e um número de índice de coluna (1–15). Escreva uma função para determinar se uma palavra caberá na grade, dada a posição da sua primeira letra como uma string (por exemplo, 'G7'), uma variável indicando se a palavra é colocada para leitura horizontalmente ou verticalmente na grade, e a própria palavra.\n"
   ]
  },
  {
   "cell_type": "code",
   "execution_count": 3,
   "id": "13d3df4d",
   "metadata": {},
   "outputs": [],
   "source": [
    "def palavra_cabe(word, index):\n",
    "\n",
    "    \"\"\"\n",
    "    Verifica se uma palavra cabe na grade do Scrabble de 15x15, dado o índice de sua primeira letra e a orientação.\n",
    "\n",
    "    Os índices na grade são distribuídos no formato (A1, B1, C1, ..., O15), onde a letra representa a coluna e o número representa a linha. Por exemplo, 'A1' é o índice que representa a interseção da linha A com a coluna 1.\n",
    "\n",
    "    Parâmetros:\n",
    "    word (str): A palavra a ser verificada. Deve ser uma string contendo a palavra que você deseja verificar.\n",
    "    index (str): O índice de posição da primeira letra da palavra na grade do Scrabble, no formato de coluna (A–O) e linha (1–15), por exemplo, 'G7'.\n",
    "\n",
    "    Retorna:\n",
    "    None: A função imprime se a palavra cabe ou não na grade do Scrabble, na horizontal ou vertical, mas não retorna um valor.\n",
    "\n",
    "    Comportamento:\n",
    "    - A função primeiro converte o índice da posição inicial em coordenadas de linha e coluna.\n",
    "    - Em seguida, verifica se a palavra pode caber horizontalmente ou verticalmente a partir dessa posição inicial.\n",
    "    - A função imprime uma mensagem indicando se a palavra cabe ou não na grade do Scrabble, considerando a orientação da palavra.\n",
    "\n",
    "    Exemplo:\n",
    "    >>> palavra_cabe(\"SCRABBLE\", \"G7\")\n",
    "    A palavra 'SCRABBLE' cabe na grade do Scrabble na horizontal.\n",
    "    \n",
    "    >>> palavra_cabe(\"WORD\", \"M12\")\n",
    "    A palavra 'WORD' cabe na grade do Scrabble na vertical.\n",
    "    \"\"\"\n",
    "\n",
    "\n",
    "    def get_index():\n",
    "\n",
    "        alfabeto = ['A','B','C','D','E','F','G','H','I','J','K','L','M','N','O']\n",
    "        dic_coordenada = {}\n",
    "        for i in range(1,16):\n",
    "            for a , j in enumerate(alfabeto):\n",
    "                dic_coordenada[j+str(i)] = [i-1,a]\n",
    "        i,j = dic_coordenada[index]\n",
    "        return i , j\n",
    "\n",
    "\n",
    "\n",
    "    def contador_horizontal():\n",
    "        _ , h =  get_index()\n",
    "\n",
    "        if  len(word) < (15 - h):\n",
    "             return True\n",
    "        else:\n",
    "            return False\n",
    "\n",
    "\n",
    "    def contador_vertical():\n",
    "        v, _ =  get_index()\n",
    "\n",
    "        if  len(word) < (15 - v):\n",
    "             return True\n",
    "        else:\n",
    "            return False\n",
    "\n",
    "\n",
    "\n",
    "\n",
    "\n",
    "    if contador_horizontal():\n",
    "            return print(f\"A palavra '{word}' cabe na grade do Scrabble na horizontal.\")\n",
    "\n",
    "    elif contador_vertical():\n",
    "            return print(f\"A palavra '{word}' cabe na grade do Scrabble na vertical.\")"
   ]
  },
  {
   "cell_type": "code",
   "execution_count": 4,
   "id": "2563b52a",
   "metadata": {},
   "outputs": [
    {
     "name": "stdout",
     "output_type": "stream",
     "text": [
      "A palavra 'word' cabe na grade do Scrabble na vertical.\n"
     ]
    }
   ],
   "source": [
    "# exemplo de como usar \n",
    "word = 'word'\n",
    "index = 'M1'\n",
    "palavra_cabe(word, index)"
   ]
  },
  {
   "cell_type": "markdown",
   "id": "4c172270",
   "metadata": {},
   "source": [
    "Escreva duas funções que, dadas duas listas de comprimento 3 representando vetores tridimensionais $ \\mathbf{a} $ e $ \\mathbf{b} $, calculem o produto escalar, $ \\mathbf{a} \\cdot \\mathbf{b} $, e o produto vetorial, $ \\mathbf{a} \\times \\mathbf{b} $.\n",
    "\n",
    "Escreva mais duas funções para retornar o produto triplo escalar, $ \\mathbf{a} \\cdot (\\mathbf{b} \\times \\mathbf{c}) $, e o produto triplo vetorial, $ \\mathbf{a} \\times (\\mathbf{b} \\times \\mathbf{c}) $.\n"
   ]
  },
  {
   "cell_type": "code",
   "execution_count": 2,
   "id": "207f18c6",
   "metadata": {
    "scrolled": false
   },
   "outputs": [],
   "source": [
    "def produto_escalar(a, b):\n",
    "    \n",
    "    resultado = sum(ai * bi for ai, bi in zip(a, b))\n",
    "    return resultado\n",
    "\n",
    "def produto_vetorial(a, b):\n",
    "    \n",
    "    resultado = [\n",
    "        a[1] * b[2] - a[2] * b[1],\n",
    "        a[2] * b[0] - a[0] * b[2],\n",
    "        a[0] * b[1] - a[1] * b[0]\n",
    "    ]\n",
    "    return resultado\n",
    "\n",
    "def produto_triplo_escalar(a, b, c):\n",
    "    \n",
    "    resultado = produto_escalar(a, produto_vetorial(b, c))\n",
    "    return resultado\n",
    "\n",
    "def produto_triplo_vetorial(a, b, c):\n",
    "    \n",
    "    resultado = produto_vetorial(a, produto_vetorial(b, c))\n",
    "    return resultado\n"
   ]
  },
  {
   "cell_type": "code",
   "execution_count": 203,
   "id": "d92ac759",
   "metadata": {
    "scrolled": true
   },
   "outputs": [
    {
     "name": "stdout",
     "output_type": "stream",
     "text": [
      "Produto Escalar (a · b): 32\n",
      "Produto Vetorial (a × b): [-3, 6, -3]\n",
      "Produto Triplo Escalar (a · (b × c)): 0\n",
      "Produto Triplo Vetorial (a × (b × c)): [-24, -6, 12]\n"
     ]
    }
   ],
   "source": [
    "#Exemplo de uso:\n",
    "vetor_a = [1, 2, 3]\n",
    "vetor_b = [4, 5, 6]\n",
    "vetor_c = [7, 8, 9]\n",
    "\n",
    "\n",
    "resultado_escalar = produto_escalar(vetor_a, vetor_b)\n",
    "print(f\"Produto Escalar (a · b): {resultado_escalar}\")\n",
    "\n",
    "\n",
    "resultado_vetorial = produto_vetorial(vetor_a, vetor_b)\n",
    "print(f\"Produto Vetorial (a × b): {resultado_vetorial}\")\n",
    "\n",
    "\n",
    "resultado_triplo_escalar = produto_triplo_escalar(vetor_a, vetor_b, vetor_c)\n",
    "print(f\"Produto Triplo Escalar (a · (b × c)): {resultado_triplo_escalar}\")\n",
    "\n",
    "\n",
    "resultado_triplo_vetorial = produto_triplo_vetorial(vetor_a, vetor_b, vetor_c)\n",
    "print(f\"Produto Triplo Vetorial (a × (b × c)): {resultado_triplo_vetorial}\")\n"
   ]
  },
  {
   "cell_type": "markdown",
   "id": "3b22327d",
   "metadata": {},
   "source": [
    "Escreva uma função que retorna um vetor na seguinte forma:\n",
    "\n",
    "print(str_vector([-2, 3.5]))\n",
    "-2i + 3.5j\n",
    "\n",
    "print(str_vector((4, 0.5, -2)))\n",
    "4i + 0.5j - 2k"
   ]
  },
  {
   "cell_type": "code",
   "execution_count": 7,
   "id": "dee15212",
   "metadata": {},
   "outputs": [],
   "source": [
    "def str_vector(vec):\n",
    "    \"\"\"\n",
    "    Converte um vetor tridimensional representado como uma lista de componentes em uma string de notação vetorial.\n",
    "\n",
    "    A função pega um vetor tridimensional, representado por uma lista de três números, e converte esse vetor em uma string que usa a notação vetorial com as unidades 'i', 'j', e 'k'. \n",
    "\n",
    "    Parâmetros:\n",
    "    vec (list of int or float): Uma lista contendo três números que representam as componentes do vetor nas direções 'i', 'j' e 'k', respectivamente.\n",
    "\n",
    "    Retorna:\n",
    "    str: Uma string representando o vetor na forma de notação vetorial, por exemplo, \"3i-2j+4k\". Se a lista de entrada é `[3, -2, 4]`, a função retornará a string \"3i-2j+4k\".\n",
    "\n",
    "    Comportamento:\n",
    "    - A função soma todos os componentes do vetor, mas esse valor não é utilizado na conversão.\n",
    "    - Constrói uma lista de partes do vetor onde cada componente é concatenado com seu respectivo símbolo de unidade.\n",
    "    - Une essas partes em uma string, separadas por '+' e substitui qualquer ocorrência de '+-' por '-' para a notação correta.\n",
    "    \n",
    "    Exemplo:\n",
    "    >>> str_vector([3, -2, 4])\n",
    "    '3i-2j+4k'\n",
    "    \n",
    "    >>> str_vector([0, 5, -1])\n",
    "    '5j-k'\n",
    "    \"\"\"\n",
    "\n",
    "\n",
    "\n",
    "    coount = 0\n",
    "    for i in vec:\n",
    "        coount += i\n",
    "\n",
    "\n",
    "    list_vector  = ['i','j','k']\n",
    "\n",
    "    list_of_part = []\n",
    "    for i , number in enumerate(vec):\n",
    "        list_of_part += [str(number) + list_vector[i]]\n",
    "\n",
    "\n",
    "\n",
    "    vector = '+'.join(list_of_part)\n",
    "    return vector.replace('+-', '-')\n"
   ]
  },
  {
   "cell_type": "markdown",
   "id": "805a7ffe",
   "metadata": {},
   "source": [
    "O romance **Moby-Dick** está fora de copyright e pode ser baixado como um arquivo de texto no site Project Gutenberg em [www.gutenberg.org/2/7/0/2701/](http://www.gutenberg.org/2/7/0/2701/). Escreva um programa para exibir as 100 palavras mais usadas no livro, armazenando a contagem de cada palavra encontrada em um dicionário.\n",
    "\n",
    "Dica: use os métodos de string do Python para remover qualquer pontuação. É suficiente substituir qualquer ocorrência dos seguintes caracteres por uma string vazia: `!?\":;,()’.*[]`. Quando você tiver um dicionário com palavras como chaves e as contagens correspondentes como valores, crie uma lista de tuplas `(contagem, palavra)` e classifique-a.\n",
    "\n",
    "Exercício bônus: compare as frequências das 2000 palavras mais comuns em *Moby-Dick* com a previsão da Lei de Zipf:\n",
    "\n",
    "$$\n",
    "\\log f(w) = \\log C - a \\log r(w)\n",
    "$$\n",
    "\n",
    "onde $f(w)$ é o número de ocorrências da palavra $w$, $r(w)$ é o ranking correspondente (1 = mais comum, 2 = segundo mais comum, etc.) e $C$ e $a$ são constantes. Na formulação tradicional da lei, $C = \\log f(w_1)$ e $a = 1$, onde $w_1$ é a palavra mais comum, tal que $r(w_1) = 1$.\n"
   ]
  },
  {
   "cell_type": "markdown",
   "id": "6547d8ad",
   "metadata": {},
   "source": [
    "### Imports"
   ]
  },
  {
   "cell_type": "code",
   "execution_count": 9,
   "id": "271bcf9a",
   "metadata": {},
   "outputs": [],
   "source": [
    "import matplotlib.pyplot as plt\n",
    "import numpy as np\n",
    "import tqdm"
   ]
  },
  {
   "cell_type": "code",
   "execution_count": 10,
   "id": "af493436",
   "metadata": {},
   "outputs": [
    {
     "name": "stdout",
     "output_type": "stream",
     "text": [
      "--2024-09-12 13:51:47--  https://www.gutenberg.org/files/2701/2701-0.txt\n",
      "Resolving www.gutenberg.org (www.gutenberg.org)... 2610:28:3090:3000:0:bad:cafe:47, 152.19.134.47\n",
      "Connecting to www.gutenberg.org (www.gutenberg.org)|2610:28:3090:3000:0:bad:cafe:47|:443... connected.\n",
      "HTTP request sent, awaiting response... 200 OK\n",
      "Length: 1276235 (1,2M) [text/plain]\n",
      "Saving to: ‘2701-0.txt’\n",
      "\n",
      "2701-0.txt          100%[===================>]   1,22M   579KB/s    in 2,2s    \n",
      "\n",
      "2024-09-12 13:51:50 (579 KB/s) - ‘2701-0.txt’ saved [1276235/1276235]\n",
      "\n"
     ]
    }
   ],
   "source": [
    "!wget https://www.gutenberg.org/files/2701/2701-0.txt"
   ]
  },
  {
   "cell_type": "code",
   "execution_count": 11,
   "id": "f4255a73",
   "metadata": {},
   "outputs": [],
   "source": [
    "with open('2701-0.txt','r',encoding='utf-8') as f:\n",
    "    texto = f.readlines()\n",
    "\n",
    "texto = ' '.join(texto)"
   ]
  },
  {
   "cell_type": "code",
   "execution_count": 12,
   "id": "aafb6a95",
   "metadata": {},
   "outputs": [],
   "source": [
    "for c in '!?\":;,()\\'.*[]“”’':\n",
    "    texto = texto.replace(c,'')\n",
    "\n",
    "texto = texto.replace('—',' ').replace(\"_\",\" \")\n",
    "texto = texto.replace('―',' ').replace(\"_\",\" \")\n",
    "texto = texto.replace('--', ' ').replace('\\'s', '')\n",
    "texto = texto.replace('&', 'and').replace('\\n', ' ')\n",
    "texto = texto.replace('   ','').replace('  ','').lower()\n",
    "\n",
    "palavras = texto.split()"
   ]
  },
  {
   "cell_type": "code",
   "execution_count": 13,
   "id": "21eb8d33",
   "metadata": {},
   "outputs": [
    {
     "name": "stderr",
     "output_type": "stream",
     "text": [
      "100%|██████████████████████████████████████████████| 30928/30928 [03:40<00:00, 140.40it/s]\n"
     ]
    }
   ],
   "source": [
    "palavras_do_texto= set(palavras)\n",
    "list_tup = []\n",
    "for uniq in tqdm.tqdm(palavras_do_texto):\n",
    "  count = 0\n",
    "  for i in palavras:\n",
    "    if i == uniq:\n",
    "      count += 1\n",
    "\n",
    "  list_tup +=[(count , uniq)]\n",
    "\n",
    "list_tup.sort(reverse = True)"
   ]
  },
  {
   "cell_type": "code",
   "execution_count": 14,
   "id": "f02208c6",
   "metadata": {},
   "outputs": [],
   "source": [
    "rank  = np.arange(1, len(list_tup)+1)\n",
    "\n",
    "list_ = []\n",
    "for i in  list_tup:\n",
    "  list_ += [i[0]]\n",
    "\n",
    "list_count = np.array(list_)"
   ]
  },
  {
   "cell_type": "code",
   "execution_count": 15,
   "id": "89cf214b",
   "metadata": {},
   "outputs": [],
   "source": [
    "C= list_count[0]\n",
    "alpha=1.\n",
    "pred = C*rank**(-1.*alpha)"
   ]
  },
  {
   "cell_type": "code",
   "execution_count": 16,
   "id": "fc642b07",
   "metadata": {},
   "outputs": [
    {
     "data": {
      "text/plain": [
       "<matplotlib.legend.Legend at 0x760733fee560>"
      ]
     },
     "execution_count": 16,
     "metadata": {},
     "output_type": "execute_result"
    },
    {
     "data": {
      "image/png": "[encoded data removed]",
      "text/plain": [
       "<Figure size 640x480 with 1 Axes>"
      ]
     },
     "metadata": {},
     "output_type": "display_data"
    }
   ],
   "source": [
    "fig , ax = plt.subplots()\n",
    "\n",
    "ax.loglog(rank,list_count, ls=\"-\", color = 'm', lw=3, label = 'Real')\n",
    "\n",
    "ax.loglog(rank , pred, color = 'red', alpha =0.3,  ls=\"-.\", lw=3, label = 'Lei de Zip' )\n",
    "\n",
    "ax.set_xlabel('Ranking')\n",
    "ax.set_ylabel('Número de ocorrências')\n",
    "ax.spines[['top', 'right']].set_visible(False)\n",
    "ax.legend()"
   ]
  },
  {
   "cell_type": "code",
   "execution_count": null,
   "id": "bcd75f2c",
   "metadata": {},
   "outputs": [],
   "source": []
  },
  {
   "cell_type": "code",
   "execution_count": null,
   "id": "f5578be3",
   "metadata": {},
   "outputs": [],
   "source": []
  }
 ],
 "metadata": {
  "kernelspec": {
   "display_name": "Python 3 (ipykernel)",
   "language": "python",
   "name": "python3"
  },
  "language_info": {
   "codemirror_mode": {
    "name": "ipython",
    "version": 3
   },
   "file_extension": ".py",
   "mimetype": "text/x-python",
   "name": "python",
   "nbconvert_exporter": "python",
   "pygments_lexer": "ipython3",
   "version": "3.10.12"
  }
 },
 "nbformat": 4,
 "nbformat_minor": 5
}
